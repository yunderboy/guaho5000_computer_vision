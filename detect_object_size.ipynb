{
 "cells": [
  {
   "cell_type": "markdown",
   "metadata": {
    "collapsed": true,
    "deletable": true,
    "editable": true
   },
   "source": [
    "# Detect size of object"
   ]
  },
  {
   "cell_type": "markdown",
   "metadata": {
    "deletable": true,
    "editable": true
   },
   "source": [
    "### “pixels per enhed” forholdet\n",
    "For at beregne størrelsen af et objekt i et billedet, kræves det at man først udførere en \"kalibrering\" vha. et reference objekt.\n",
    "Reference objektet bør besside 2 vigtige egenskaber:\n",
    "\n",
    "1. Man skal kende objektets dimensioner (højde/bredde)\n",
    "2. Man skal nemt kunne finde/genkende objektet i billedet, endeten baseret på en fast placering i billedet eller vha. udseende (som fx. farve eller form).\n",
    "\n"
   ]
  },
  {
   "cell_type": "markdown",
   "metadata": {
    "deletable": true,
    "editable": true
   },
   "source": [
    "I denne opgave har vi valgt at anvende en dansk 20 krone som vores reference objekt. Vi har, for at finde reference punktet, valgt at 20 kronen altid vil være det objekt i billedet der er længest mod venstre.\n",
    "\n",
    "Den danske 20 krone måler 27mm i diameteren.\n",
    "\n",
    "Da vi nu kan garantere at 20 kronen altid vil være objektet længest mod venstre, kan vi sortere vores objekt konturer fra højre mod venstre, detektere 20 kronen (som altid vil være den 1. kontor i den sortede kontur liste), og anvende denne til at udregne vores \"pixels_per_metric\" som er defineret ved:\n",
    "\n",
    "pixels_per_metric = object_width / know_width"
   ]
  },
  {
   "cell_type": "markdown",
   "metadata": {},
   "source": [
    "En 20 krone har en known_width på 27 mm. Hvis man da antager at man har udregnet en object_width (målt i pixels) til at være 150 pixels bred, vil formlen se ud på følgende vis:\n",
    "\n",
    "\n",
    "pixels_per_metric = 150px / 27mm = 5.5555px\n",
    "\n",
    "\n",
    "Hvilket betyder at der ca. er 5.5 pixels på 150px.\n",
    "\n",
    "Med viden om dette forhold kan man udregne størrelsen af objekterne i resten af billedet."
   ]
  },
  {
   "cell_type": "code",
   "execution_count": 2,
   "metadata": {
    "collapsed": false
   },
   "outputs": [],
   "source": [
    "# import the necessary packages\n",
    "from scipy.spatial import distance as dist\n",
    "from imutils import perspective\n",
    "from imutils import contours\n",
    "import numpy as np\n",
    "import argparse\n",
    "import imutils\n",
    "import cv2\n",
    "\n",
    "def midpoint(ptA, ptB):\n",
    "    return ((ptA[0] + ptB[0]) * 0.5, (ptA[1] + ptB[1]) * 0.5)"
   ]
  },
  {
   "cell_type": "markdown",
   "metadata": {},
   "source": [
    "Ovenfor defineres en helper method kaldt \"midpoint\", der som navnet antyder, kan anvendes til at beregne midpunktet mellem 2 sæt (x, y)-koordinater."
   ]
  },
  {
   "cell_type": "code",
   "execution_count": 6,
   "metadata": {
    "collapsed": true
   },
   "outputs": [],
   "source": [
    "def preprocess_image(path_to_image):\n",
    "    # load the image, convert it to grayscale, and blur it slightly\n",
    "    image = cv2.imread(path_to_image)\n",
    "    gray = cv2.cvtColor(image, cv2.COLOR_BGR2GRAY)\n",
    "    gray = cv2.GaussianBlur(gray, (7, 7), 0)\n",
    "\n",
    "    # perform edge detection, then perform a dilation + erosion to\n",
    "    # close gaps in between object edges\n",
    "    edged = cv2.Canny(gray, 50, 100)\n",
    "    edged = cv2.dilate(edged, None, iterations=1)\n",
    "    edged = cv2.erode(edged, None, iterations=1)\n",
    "\n",
    "    # find contours in the edge map\n",
    "    cnts = cv2.findContours(edged.copy(), cv2.RETR_EXTERNAL,\n",
    "        cv2.CHAIN_APPROX_SIMPLE)\n",
    "    cnts = cnts[0] if imutils.is_cv2() else cnts[1]\n",
    "\n",
    "    # sort the contours from left-to-right and initialize the\n",
    "    # 'pixels per metric' calibration variable\n",
    "    (cnts, _) = contours.sort_contours(cnts)\n",
    "    pixelsPerMetric = None"
   ]
  },
  {
   "cell_type": "markdown",
   "metadata": {},
   "source": [
    "**Lines 22-24** load our image from disk, convert it to grayscale, and then smooth it using a Gaussian filter. We then perform edge detection along with a dilation + erosion to close any gaps in between edges in the edge map (Lines 28-30).\n",
    "\n",
    "**Lines 33-35** find contours (i.e., the outlines) that correspond to the objects in our edge map.\n",
    "\n",
    "These contours are then sorted from left-to-right (allowing us to extract our reference object) on **Line 39**. \n",
    "\n",
    "We also initialize our pixelsPerMetric  value on **Line 40**.\n",
    "\n",
    "\n",
    "The next step is to examine each of the contours:"
   ]
  },
  {
   "cell_type": "code",
   "execution_count": 7,
   "metadata": {
    "collapsed": true
   },
   "outputs": [],
   "source": [
    "def compute_size_of_contours(cnt):\n",
    "    # loop over the contours individually\n",
    "    for c in cnts:\n",
    "        # if the contour is not sufficiently large, ignore it\n",
    "        if cv2.contourArea(c) < 100:\n",
    "            continue\n",
    "\n",
    "        # compute the rotated bounding box of the contour\n",
    "        orig = image.copy()\n",
    "        box = cv2.minAreaRect(c)\n",
    "        box = cv2.cv.BoxPoints(box) if imutils.is_cv2() else cv2.boxPoints(box)\n",
    "        box = np.array(box, dtype=\"int\")\n",
    "\n",
    "        # order the points in the contour such that they appear\n",
    "        # in top-left, top-right, bottom-right, and bottom-left\n",
    "        # order, then draw the outline of the rotated bounding\n",
    "        # box\n",
    "        box = perspective.order_points(box)\n",
    "        cv2.drawContours(orig, [box.astype(\"int\")], -1, (0, 255, 0), 2)\n",
    "\n",
    "        # loop over the original points and draw them\n",
    "        for (x, y) in box:\n",
    "            cv2.circle(orig, (int(x), int(y)), 5, (0, 0, 255), -1)"
   ]
  },
  {
   "cell_type": "markdown",
   "metadata": {},
   "source": [
    "On Line 43 we start looping over each of the individual contours. If the contour is not sufficiently large, we discard the region, presuming it to be noise left over from the edge detection process (Lines 45 and 46).\n",
    "\n",
    "Provided that the contour region is large enough, we compute the rotated bounding box of the image on Lines 50-52, taking special care to use the cv2.cv.BoxPoints  function for OpenCV 2.4 and the cv2.boxPoints  method for OpenCV 3.\n",
    "\n",
    "We then arrange our rotated bounding box  coordinates in top-left, top-right, bottom-right, and bottom-left order, as discussed in last week’s blog post (Line 58).\n",
    "\n",
    "Lastly, Lines 59-63 draw the outline of the object in green, followed by drawing the vertices of the bounding box rectangle in as small, red circles.\n",
    "\n",
    "Now that we have our bounding box ordered, we can compute a series of midpoints:"
   ]
  },
  {
   "cell_type": "code",
   "execution_count": null,
   "metadata": {
    "collapsed": true
   },
   "outputs": [],
   "source": [
    "def compute_midpoints():\n",
    "    # unpack the ordered bounding box, then compute the midpoint\n",
    "    # between the top-left and top-right coordinates, followed by\n",
    "    # the midpoint between bottom-left and bottom-right coordinates\n",
    "    (tl, tr, br, bl) = box\n",
    "    (tltrX, tltrY) = midpoint(tl, tr)\n",
    "    (blbrX, blbrY) = midpoint(bl, br)\n",
    "\n",
    "    # compute the midpoint between the top-left and top-right points,\n",
    "    # followed by the midpoint between the top-righ and bottom-right\n",
    "    (tlblX, tlblY) = midpoint(tl, bl)\n",
    "    (trbrX, trbrY) = midpoint(tr, br)\n",
    "\n",
    "    # draw the midpoints on the image\n",
    "    cv2.circle(orig, (int(tltrX), int(tltrY)), 5, (255, 0, 0), -1)\n",
    "    cv2.circle(orig, (int(blbrX), int(blbrY)), 5, (255, 0, 0), -1)\n",
    "    cv2.circle(orig, (int(tlblX), int(tlblY)), 5, (255, 0, 0), -1)\n",
    "    cv2.circle(orig, (int(trbrX), int(trbrY)), 5, (255, 0, 0), -1)\n",
    "\n",
    "    # draw lines between the midpoints\n",
    "    cv2.line(orig, (int(tltrX), int(tltrY)), (int(blbrX), int(blbrY)),\n",
    "        (255, 0, 255), 2)\n",
    "    cv2.line(orig, (int(tlblX), int(tlblY)), (int(trbrX), int(trbrY)),\n",
    "        (255, 0, 255), 2)"
   ]
  }
 ],
 "metadata": {
  "kernelspec": {
   "display_name": "Python 3",
   "language": "python",
   "name": "python3"
  },
  "language_info": {
   "codemirror_mode": {
    "name": "ipython",
    "version": 3.0
   },
   "file_extension": ".py",
   "mimetype": "text/x-python",
   "name": "python",
   "nbconvert_exporter": "python",
   "pygments_lexer": "ipython3",
   "version": "3.5.3"
  }
 },
 "nbformat": 4,
 "nbformat_minor": 0
}